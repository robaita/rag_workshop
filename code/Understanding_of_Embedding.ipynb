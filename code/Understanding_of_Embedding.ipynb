{
 "cells": [
  {
   "cell_type": "markdown",
   "metadata": {
    "id": "TuHMMLMOZCyS"
   },
   "source": [
    "# Step 1: Introduction\n",
    "# 🔍 Semantic Search using Sentence Embeddings\n",
    "\n",
    "In this notebook, we'll learn how to:\n",
    "- Embed sentences using a lightweight LLM (MiniLM)\n",
    "- Compute cosine similarity between sentence vectors\n",
    "- Retrieve the most semantically similar sentence from a collection\n",
    "\n",
    "We'll use the `sentence-transformers` library which wraps powerful pretrained models for sentence encoding. The model used here is lightweight, fast, and ideal for Google Colab.\n",
    "\n"
   ]
  },
  {
   "cell_type": "markdown",
   "metadata": {
    "id": "DXW4nXqpaKgM"
   },
   "source": [
    "# Step 2: Install Required Libraries"
   ]
  },
  {
   "cell_type": "code",
   "execution_count": null,
   "metadata": {
    "colab": {
     "base_uri": "https://localhost:8080/"
    },
    "id": "BLyIZe4HZKAB",
    "outputId": "e8824048-29d0-4496-fd57-c861a50c572d"
   },
   "outputs": [],
   "source": [
    "# Step 2: Install Required Libraries\n",
    "!pip install -q sentence-transformers\n"
   ]
  },
  {
   "cell_type": "markdown",
   "metadata": {
    "id": "w7TCeUQSZMCi"
   },
   "source": [
    "# Step 3: Import Libraries\n",
    "## 📦 Import Required Python Libraries\n",
    "\n",
    "We'll need:\n",
    "- `SentenceTransformer` to generate sentence embeddings\n",
    "- `cosine_similarity` to compute vector similarity\n",
    "- `numpy` for basic numerical operations\n",
    "\n"
   ]
  },
  {
   "cell_type": "code",
   "execution_count": null,
   "metadata": {
    "id": "aCbqZa8gZZh9"
   },
   "outputs": [],
   "source": [
    "from sentence_transformers import SentenceTransformer\n",
    "from sklearn.metrics.pairwise import cosine_similarity\n",
    "import numpy as np"
   ]
  },
  {
   "cell_type": "markdown",
   "metadata": {
    "id": "9pcmf65pZaO2"
   },
   "source": [
    "# Step 4: Define the Sentence Collection\n",
    "## 📝 Define a Sentence Collection\n",
    "\n",
    "This is the set of candidate sentences. Our goal is to find the sentence from this list that is semantically closest to a given input query.\n",
    "\n"
   ]
  },
  {
   "cell_type": "code",
   "execution_count": null,
   "metadata": {
    "id": "IKoY7Rf-ZjHO"
   },
   "outputs": [],
   "source": [
    "sentences = [\n",
    "    \"AI is transforming the future of work.\",\n",
    "    \"Machine learning is a subset of artificial intelligence.\",\n",
    "    \"The stock market fluctuates based on economic data.\",\n",
    "    \"Large language models can generate human-like text.\",\n",
    "    \"Transformers use attention mechanisms to learn context.\",\n",
    "    \"Vaccines have been instrumental in preventing diseases.\",\n",
    "    \"Climate change poses a significant threat to biodiversity.\",\n",
    "    \"Renewable energy sources are essential for sustainability.\"\n",
    "]"
   ]
  },
  {
   "cell_type": "markdown",
   "metadata": {
    "id": "nZtPdPrRZgD3"
   },
   "source": [
    "# Step 5: Load Embedding Model\n",
    "## ⚡ Load a Lightweight Embedding Model\n",
    "\n",
    "We'll use the **MiniLM-L6-v2** model which balances performance and speed, suitable for limited compute environments like Google Colab.\n"
   ]
  },
  {
   "cell_type": "code",
   "execution_count": null,
   "metadata": {
    "colab": {
     "base_uri": "https://localhost:8080/",
     "height": 528,
     "referenced_widgets": [
      "58c01d141feb44f58f41d939a32b936a",
      "2c7864c98d2f4950b53a7b93ce6eae07",
      "b31ae44ef29b40c4ac6a3d5b957f92da",
      "b2e8cf55911e41fe9c17de9811d62d75",
      "c5adf8539c3b485da6d873b87606f560",
      "19891b9de7c24797b634055b62e71193",
      "50032896183945e38f5d93ba59702b81",
      "f7dc16e1360042be9d9c9c932db0e2c9",
      "1e31999777514e3f870116e09a39e7fe",
      "0b469d63a41c4d42b9f9a1703e174cb9",
      "ad41801ed4b04664af44819ecb490ae3",
      "40e45ca7567f4e5aabbf8c99340a54ba",
      "0e45817829c14cdf826a2d094bc21854",
      "736ca358867e40f39463db9d8890b61a",
      "f7399e4ef6aa48f59996df07b15c7f31",
      "0952fa6a83f642c88bc365c2c9b8c799",
      "05901e532534445c8cbb3acfc5f9fe95",
      "acaf047281704da3817064b3f0be1c0e",
      "030e80cd972649259f3e0875f6d24712",
      "0c401fcbe8ba4fd5a4cddeca2eb9b17f",
      "90ca514ff33c4596bab62080eeac2731",
      "cff21f9cbabd4f70b1d5d81da3dd0f11",
      "f9e91a6e60cf49d18877d94daf2cfb1d",
      "3c5244913ef940c08c1a1c54e6f3e18b",
      "3c3b19915eb74e50bf857f70753b2018",
      "a32310e775664712ae4a5daa050ab24e",
      "53e4acb4506f44d2a7edd29bf0de3b07",
      "46c7a40412dc412381976b8d49928716",
      "238a6e72c3ed4d7fbaddc1097bc9a0b2",
      "b8b7ea6c0e3f48ebb472412e3882aa03",
      "1abfa0d4feb544e0ac2fb7b5f78a5122",
      "c08e607de3f1422db63b1a838e7028fe",
      "55232efa0ddd4e2ea706b00d2da1e540",
      "0f82c65f882b42ebab16c8e6332b4995",
      "a3fef2ffe54e4b59bcf6637a9cce63fa",
      "ef232772e835463caf35485f130bb5ac",
      "416e99940f4c459291d19388535c4d34",
      "74d5afcb6b31426381cc3b3698a8fb08",
      "54b081f7b4ac4f7e803bd5c3741768be",
      "96a721f2a0a24bf5ba7baf934f819e57",
      "4f446f0ef3194d46a6e7d8feabd8ccd3",
      "98db13b6610c4d669af45edbff1095f9",
      "dd7dfe0a8aa4455c90dff4027599b81f",
      "a97e265cbd1941c48c29a01bacd280ed",
      "827d3fd6cae4461e9985ffa5d2fa98fb",
      "fb4dcae3f40c40faba735facaec341dd",
      "873dc9da199b441a8b409c7b9833f576",
      "cdc63b494f27405c8d7b79a2d5200bb6",
      "f743e5d761a44e91b4372e1a066ad75f",
      "22c257b74e0c46959048377139b27ad7",
      "5d11a6cd1a704b7197ecd7ed127c899f",
      "eb6cad97ec534d809401ba44925e1a70",
      "9f6029e2386f43b188abe39f074156f7",
      "0096fc70bf244fd6a6c1fd25b77b44cc",
      "36c41c4decfb43749ae763d8805bf7cc",
      "52b20ce6bc594627950b77001c86b3e7",
      "4169feb9c7d949038ae5b71c253db097",
      "8675c4c4ff084da7a6ec5b53bea7fb70",
      "bd3a71f53a224760bbaebe90fec8fd82",
      "5cfac80d811346c0b1e54944ac28bdef",
      "51176161db4f4c8cb8effff6444f78b0",
      "1b7aa02cf3db46e0a6d6205539a67e94",
      "b46ea82da95049e88c47e251092ed503",
      "cef0493bcc144ce59714124c02d24924",
      "099c248797c64176b6b6ff9ac937af56",
      "87efeb500c4a4800ac04f006ebb375c7",
      "7574b3ea36264a4fba8603c53ee72c09",
      "dc9ed7d9251548c79543b1ec7dcc6801",
      "146fb49e17e048fb9248a0dbd12c7194",
      "43acbbc3ce644e2db4b88fb81d36e768",
      "a4fb3e72c937495ea8147b548b5fad53",
      "fd694649c3ba40e196888299a6b58a3a",
      "d693230030b949fb839e1ad0c487d77e",
      "da65af282ff1443eb0e758585b255391",
      "c4e7d47e87ef4e629a95e875464cceee",
      "2bf6ba3e19994904a51e4e736b056322",
      "a2e45f2b7a054cb6a9aeab4789adb36f",
      "8a031c75117b4bcfb517de9e15b8dbb3",
      "5342480069c54455a7dd30184cdd4d1b",
      "d31a0da8bb3c4795bb5c9403f992e397",
      "ccf09d7ba5334ea5ae24c185f0e47dbc",
      "9863ab251e534a97a21027d6db99aec5",
      "8c3d9880fca14ca5aae4d7ed6de8dd4d",
      "317ea8a9d2bb46dfaea007167dc161a7",
      "50fc782a155044c79225b031203d85f7",
      "7682353d49914bd7972e74b610ec9aaf",
      "a7c276015d0e4c00aa80fcadb15ebf0d",
      "c0bf2c65709740888ebce76ee25fea97",
      "1e552f30d31045f69194a6c759701a0d",
      "7d9cad9d0d7743728bf6396b78acf5bf",
      "5504d788639c4ac1b8a1fa6498ff044c",
      "10dd0d1d85604503ae0b210f768a3258",
      "0888ed5c56d04660a5e4cd66bce113e8",
      "f2112606d48945a0b0570615657f5d70",
      "216ccfd7fd0d40e6af4762632e4889c8",
      "6cfe4e3a37b64f6e8d10aec9d0987535",
      "7800512559a84384be2704eb084c1486",
      "41d6b140768b44c5b848cd8da2f18e4b",
      "df15fa80739b4b51905b3b4934347d45",
      "b7995abe7d6247f697afab82bdf3100c",
      "d0970920d8cc45d6b8a85ab101a9f4a4",
      "6896b176002d4a648beec185c3b894e0",
      "d5857bd7600b4d53b81a1749c2680cdd",
      "4a92ce4b9bcb4c41b426bc064d098766",
      "34cf3b3b155e4346a511f7d34a881157",
      "d5320f40f16449b2833d4cfdb9e65700",
      "d4eaaf8711d9425ca1c32134f5e7b7d7",
      "b48f266c335f4b638a0160ef7d273253",
      "7fa85839b66744fdb99722ba0448e1c0",
      "35e254bf833044bdbf261bcdd0a4ca1a",
      "a29116d78da548bfafcb8b0a902c6d1c",
      "d18dd4b18f154b96bc2a88ef4cd4675a",
      "082a8bae839e4d3babacacd8167effc3",
      "38171da600d64217b5c2f8291f3b0c3b",
      "1c25219e072a49c5a21adf9c15058d8d",
      "2053f00df7a04d2a8dd35c9c1afa8efe",
      "18587680f74a40478417bf8c0cb5669b",
      "bfc7f9cdeacc438d8fde0ba023ca8495",
      "660865ca71d14959a546d2aa4ef4f842",
      "67041ee4f9cb4a8181c315150beebe0d",
      "24a676a07a7f4eb0b98f99e4ad1eb916"
     ]
    },
    "id": "VRENxvkVZoYa",
    "outputId": "4ad721ce-9d56-4336-8c1e-2a2ef3d53d1d"
   },
   "outputs": [],
   "source": [
    "model = SentenceTransformer('sentence-transformers/all-MiniLM-L6-v2')"
   ]
  },
  {
   "cell_type": "markdown",
   "metadata": {
    "id": "l_bF19O8Zqhu"
   },
   "source": [
    "# Step 6: Generate Embeddings for the Collection\n",
    "## 📐 Encode the Sentence Collection\n",
    "\n",
    "Now, we'll compute vector embeddings for each sentence in the list using our model.\n"
   ]
  },
  {
   "cell_type": "code",
   "execution_count": null,
   "metadata": {
    "id": "-2CcBLcTZu9c"
   },
   "outputs": [],
   "source": [
    "sentence_embeddings = model.encode(sentences)"
   ]
  },
  {
   "cell_type": "markdown",
   "metadata": {
    "id": "qMUrflgLZwZJ"
   },
   "source": [
    "# Step 7: Input Query and Compute Similarity\n",
    "## 💬 Input Query Sentence\n",
    "\n",
    "We’ll take an input sentence, compute its embedding, and then measure cosine similarity with every sentence in our collection.\n"
   ]
  },
  {
   "cell_type": "code",
   "execution_count": null,
   "metadata": {
    "id": "dW0hbNiYZzyR"
   },
   "outputs": [],
   "source": [
    "query = \"What is the impact of artificial intelligence on jobs?\"\n",
    "query_embedding = model.encode([query])\n",
    "\n",
    "# Compute cosine similarity with the sentence collection\n",
    "cosine_scores = cosine_similarity(query_embedding, sentence_embeddings)"
   ]
  },
  {
   "cell_type": "markdown",
   "metadata": {
    "id": "FLuEWypiZ1cK"
   },
   "source": [
    "# Step 8: Retrieve the Most Similar Sentence\n",
    "## ✅ Retrieve the Most Relevant Sentence\n",
    "\n",
    "Based on the similarity scores, we’ll retrieve the sentence with the highest cosine similarity to the query.\n"
   ]
  },
  {
   "cell_type": "code",
   "execution_count": null,
   "metadata": {
    "colab": {
     "base_uri": "https://localhost:8080/"
    },
    "id": "GSFqeKoyZ5eD",
    "outputId": "00ed5198-b243-40c2-b775-e73d5ea76be3"
   },
   "outputs": [],
   "source": [
    "top_index = np.argmax(cosine_scores)\n",
    "print(\"Input Query:\", query)\n",
    "print(\"Most Similar Sentence:\", sentences[top_index])\n",
    "print(\"Similarity Score:\", cosine_scores[0][top_index])"
   ]
  },
  {
   "cell_type": "markdown",
   "metadata": {
    "id": "Se8KnmDvZ7Gh"
   },
   "source": [
    "# Step 9: Visualize Results\n",
    "## 📊 Visualize Similarity Scores\n",
    "\n",
    "This table shows how close each sentence is to the query, giving you insights into semantic alignment.\n"
   ]
  },
  {
   "cell_type": "code",
   "execution_count": null,
   "metadata": {
    "colab": {
     "base_uri": "https://localhost:8080/",
     "height": 300
    },
    "id": "8UgKsOS0Z-9t",
    "outputId": "26705f31-df61-40a7-e0b2-fd8e2f0df46d"
   },
   "outputs": [],
   "source": [
    "import pandas as pd\n",
    "\n",
    "df = pd.DataFrame({\n",
    "    \"Sentence\": sentences,\n",
    "    \"Similarity Score\": cosine_scores[0]\n",
    "}).sort_values(by=\"Similarity Score\", ascending=False)\n",
    "\n",
    "df.reset_index(drop=True, inplace=True)\n",
    "df"
   ]
  },
  {
   "cell_type": "markdown",
   "metadata": {
    "id": "0tuwYjcfaBbr"
   },
   "source": [
    "# 📊 Plot the Top 5 Similar Sentences\n",
    "## 📈 Visualize Top 5 Semantic Matches\n",
    "\n",
    "This plot shows the top 5 most semantically similar sentences to the query. The x-axis shows the first three words of each sentence, and the y-axis shows their cosine similarity scores.\n"
   ]
  },
  {
   "cell_type": "code",
   "execution_count": null,
   "metadata": {
    "colab": {
     "base_uri": "https://localhost:8080/",
     "height": 506
    },
    "id": "NYZVrSjqaFJz",
    "outputId": "7b5ed064-3de9-43d2-9522-a41b83b428a6"
   },
   "outputs": [],
   "source": [
    "# Prepare top 5 results\n",
    "top5 = df.head(5).copy()\n",
    "top5[\"Short Label\"] = top5[\"Sentence\"].apply(lambda x: ' '.join(x.split()[:3]) + \"...\")\n",
    "\n",
    "# Plot the bar chart\n",
    "import matplotlib.pyplot as plt\n",
    "\n",
    "plt.figure(figsize=(10, 5))\n",
    "plt.bar(top5[\"Short Label\"], top5[\"Similarity Score\"], color='skyblue')\n",
    "plt.title(\"Top 5 Similar Sentences\")\n",
    "plt.xlabel(\"Sentence (First 3 Words)\")\n",
    "plt.ylabel(\"Cosine Similarity\")\n",
    "plt.xticks(rotation=90)\n",
    "plt.grid(axis='y', linestyle='--', alpha=0.7)\n",
    "plt.tight_layout()\n",
    "plt.show()"
   ]
  }
 ],
 "metadata": {
  "accelerator": "GPU",
  "colab": {
   "gpuType": "T4",
   "provenance": []
  },
  "kernelspec": {
   "display_name": "Python 3",
   "name": "python3"
  },
  "language_info": {
   "name": "python"
  }
 },
 "nbformat": 4,
 "nbformat_minor": 0
}
